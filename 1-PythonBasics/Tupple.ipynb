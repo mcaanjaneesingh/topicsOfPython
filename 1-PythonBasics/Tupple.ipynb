{
 "cells": [
  {
   "cell_type": "code",
   "execution_count": 9,
   "id": "113ec708",
   "metadata": {},
   "outputs": [
    {
     "name": "stdout",
     "output_type": "stream",
     "text": [
      "()\n",
      "()\n"
     ]
    }
   ],
   "source": [
    "empty_tupple=()\n",
    "#!/usr/bin/env python3\n",
    "print(empty_tupple)  # Output the empty tuple\n",
    "empty_tupple = ()\n",
    "print(empty_tupple)  # Output the empty tuple again\n"
   ]
  },
  {
   "cell_type": "code",
   "execution_count": 10,
   "id": "d12bf8bf",
   "metadata": {},
   "outputs": [
    {
     "name": "stdout",
     "output_type": "stream",
     "text": [
      "[]\n",
      "['anjanee', '', 'krishna']\n"
     ]
    }
   ],
   "source": [
    "lst =list()\n",
    "print(lst)  # Output the empty list\n",
    "names = [\"anjanee\", \"\", \"krishna\"]\n",
    "print(names)  # Output the list of names\n",
    "names.append(\"sai\")  # Add a new name to the list\n"
   ]
  },
  {
   "cell_type": "code",
   "execution_count": 11,
   "id": "8e95fe40",
   "metadata": {},
   "outputs": [
    {
     "name": "stdout",
     "output_type": "stream",
     "text": [
      "(1, 'hello', 3.14, True)\n"
     ]
    }
   ],
   "source": [
    "mixed_tuple = (1, \"hello\", 3.14, True)\n",
    "print(mixed_tuple)  # Output the mixed tuple\n"
   ]
  },
  {
   "cell_type": "code",
   "execution_count": 12,
   "id": "68fd965b",
   "metadata": {},
   "outputs": [
    {
     "name": "stdout",
     "output_type": "stream",
     "text": [
      "1\n",
      "3\n",
      "5\n"
     ]
    }
   ],
   "source": [
    "numbers = [1, 2, 3, 4, 5]\n",
    "for number in numbers:\n",
    "    if number % 2 == 0:\n",
    "        continue  # Skip even numbers\n",
    "    print(number)  # Output the current number\n",
    "count=0  # Initialize a counter\n",
    "while count % 2:\n",
    "    print(count)  # Output the current count\n",
    "    count += 1  # Increment the counter\n",
    "lst=[]\n",
    "\n",
    "\n"
   ]
  },
  {
   "cell_type": "code",
   "execution_count": 13,
   "id": "90dac185",
   "metadata": {},
   "outputs": [
    {
     "name": "stdout",
     "output_type": "stream",
     "text": [
      "(1, 2, 3, 4, 5)\n"
     ]
    }
   ],
   "source": [
    "concatination_tupple = (1, 2, 3) + (4, 5)\n",
    "print(concatination_tupple)  # Output the concatenated tuple\n",
    "\n"
   ]
  },
  {
   "cell_type": "code",
   "execution_count": 14,
   "id": "c471b7b9",
   "metadata": {},
   "outputs": [
    {
     "ename": "TypeError",
     "evalue": "can't multiply sequence by non-int of type 'list'",
     "output_type": "error",
     "traceback": [
      "\u001b[31m---------------------------------------------------------------------------\u001b[39m",
      "\u001b[31mTypeError\u001b[39m                                 Traceback (most recent call last)",
      "\u001b[36mCell\u001b[39m\u001b[36m \u001b[39m\u001b[32mIn[14]\u001b[39m\u001b[32m, line 1\u001b[39m\n\u001b[32m----> \u001b[39m\u001b[32m1\u001b[39m \u001b[43mnumbers\u001b[49m\u001b[43m \u001b[49m\u001b[43m*\u001b[49m\u001b[43m=\u001b[49m\u001b[43m \u001b[49m\u001b[43m[\u001b[49m\u001b[32;43m1\u001b[39;49m\u001b[43m,\u001b[49m\u001b[43m \u001b[49m\u001b[32;43m2\u001b[39;49m\u001b[43m,\u001b[49m\u001b[43m \u001b[49m\u001b[32;43m3\u001b[39;49m\u001b[43m,\u001b[49m\u001b[43m \u001b[49m\u001b[32;43m4\u001b[39;49m\u001b[43m,\u001b[49m\u001b[43m \u001b[49m\u001b[32;43m5\u001b[39;49m\u001b[43m]\u001b[49m\n\u001b[32m      2\u001b[39m \u001b[38;5;28mprint\u001b[39m(numbers)  \u001b[38;5;66;03m# Output the multiplied list\u001b[39;00m\n",
      "\u001b[31mTypeError\u001b[39m: can't multiply sequence by non-int of type 'list'"
     ]
    }
   ],
   "source": [
    "numbers *= [1, 2, 3, 4, 5]\n",
    "print(numbers)  # Output the multiplied list"
   ]
  },
  {
   "cell_type": "code",
   "execution_count": 17,
   "id": "29c938f5",
   "metadata": {},
   "outputs": [
    {
     "name": "stdout",
     "output_type": "stream",
     "text": [
      "Tuples are immutable, so we cannot change their elements directly. [10, 2, 3]\n"
     ]
    }
   ],
   "source": [
    "## Immutable nature of tuples\n",
    "\n",
    "lst = [1, 2, 3]\n",
    "try:\n",
    "    lst[0] = 10  # Attempt to modify the first element\n",
    "except TypeError as e:\n",
    "    print(f\"Error: {e}\")\n",
    "# Output the error message\n",
    "print(\"Tuples are immutable, so we cannot change their elements directly.\",lst)\n",
    "\n"
   ]
  },
  {
   "cell_type": "code",
   "execution_count": 18,
   "id": "95c114a2",
   "metadata": {},
   "outputs": [
    {
     "name": "stdout",
     "output_type": "stream",
     "text": [
      "Name: John, Age: 30, Profession: Engineer\n"
     ]
    }
   ],
   "source": [
    "## unpacking tuples\n",
    "person = (\"John\", 30, \"Engineer\")\n",
    "name, age, profession = person  # Unpack the tuple\n",
    "print(f\"Name: {name}, Age: {age}, Profession: {profession}\")\n"
   ]
  },
  {
   "cell_type": "code",
   "execution_count": null,
   "id": "eecc70a3",
   "metadata": {},
   "outputs": [],
   "source": []
  }
 ],
 "metadata": {
  "kernelspec": {
   "display_name": "Python 3",
   "language": "python",
   "name": "python3"
  },
  "language_info": {
   "codemirror_mode": {
    "name": "ipython",
    "version": 3
   },
   "file_extension": ".py",
   "mimetype": "text/x-python",
   "name": "python",
   "nbconvert_exporter": "python",
   "pygments_lexer": "ipython3",
   "version": "3.12.0"
  }
 },
 "nbformat": 4,
 "nbformat_minor": 5
}
