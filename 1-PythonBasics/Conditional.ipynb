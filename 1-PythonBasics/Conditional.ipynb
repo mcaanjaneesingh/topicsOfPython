{
 "cells": [
  {
   "cell_type": "code",
   "execution_count": 1,
   "id": "459026b8",
   "metadata": {},
   "outputs": [
    {
     "name": "stdout",
     "output_type": "stream",
     "text": [
      "You are an adult.\n"
     ]
    }
   ],
   "source": [
    "##conditional statements example\n",
    "\n",
    "# This script demonstrates the use of conditional statements in Python.\n",
    "age = 18  # An integer representing age\n",
    "if age >= 18:\n",
    "    print(\"You are an adult.\")  # Output if age is 18 or older\n",
    "else:\n",
    "    print(\"You are a minor.\")\n",
    "# --- IGNORE ---"
   ]
  },
  {
   "cell_type": "code",
   "execution_count": 2,
   "id": "bf8d7e31",
   "metadata": {},
   "outputs": [
    {
     "name": "stdout",
     "output_type": "stream",
     "text": [
      "2020 is a leap year.\n"
     ]
    }
   ],
   "source": [
    "## Practical Example\n",
    "# This section is ignored by the script execution.\n",
    "\n",
    "## Determine if a year is a leap year\n",
    "# A leap year is divisible by 4, except for end-of-century years, which must be divisible by 400.\n",
    "year = 2020  # Example year \n",
    "if (year % 4 == 0 and year % 100 != 0) or (year % 400 == 0):\n",
    "    print(f\"{year} is a leap year.\")\n",
    "else:\n",
    "    print(f\"{year} is not a leap year.\")\n",
    "# --- IGNORE ---\n"
   ]
  },
  {
   "cell_type": "code",
   "execution_count": null,
   "id": "e1eb4396",
   "metadata": {},
   "outputs": [],
   "source": []
  }
 ],
 "metadata": {
  "kernelspec": {
   "display_name": "Python 3",
   "language": "python",
   "name": "python3"
  },
  "language_info": {
   "codemirror_mode": {
    "name": "ipython",
    "version": 3
   },
   "file_extension": ".py",
   "mimetype": "text/x-python",
   "name": "python",
   "nbconvert_exporter": "python",
   "pygments_lexer": "ipython3",
   "version": "3.12.0"
  }
 },
 "nbformat": 4,
 "nbformat_minor": 5
}
