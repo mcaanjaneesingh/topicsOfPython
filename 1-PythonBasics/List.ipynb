{
 "cells": [
  {
   "cell_type": "code",
   "execution_count": 1,
   "id": "8d226683",
   "metadata": {},
   "outputs": [
    {
     "name": "stdout",
     "output_type": "stream",
     "text": [
      "[]\n"
     ]
    }
   ],
   "source": [
    "lst=[]\n",
    "print(lst)  # Output the empty list"
   ]
  },
  {
   "cell_type": "code",
   "execution_count": 2,
   "id": "1404fe41",
   "metadata": {},
   "outputs": [
    {
     "name": "stdout",
     "output_type": "stream",
     "text": [
      "['anjanee', '', 'krishna']\n",
      "['anjanee', '', 'krishna', 'sai']\n"
     ]
    }
   ],
   "source": [
    "names=[\"anjanee\",\"\",\"krishna\"]\n",
    "print(names)  # Output the list of names\n",
    "names.append(\"sai\")  # Add a new name to the list\n",
    "print(names)  # Output the updated list of names"
   ]
  },
  {
   "cell_type": "code",
   "execution_count": 3,
   "id": "374b6685",
   "metadata": {},
   "outputs": [
    {
     "name": "stdout",
     "output_type": "stream",
     "text": [
      "apple\n",
      "cherry\n"
     ]
    }
   ],
   "source": [
    "###Indentation\n",
    "# Indentation is crucial in Python for defining blocks of code.\n",
    "fruits = [\"apple\", \"banana\", \"cherry\"]\n",
    "for fruit in fruits:\n",
    "    if fruit == \"banana\":\n",
    "        continue  # Skip the banana\n",
    "    print(fruit)  # Output the current fruit\n",
    "# This will output:\n"
   ]
  },
  {
   "cell_type": "code",
   "execution_count": 4,
   "id": "d61d6809",
   "metadata": {},
   "outputs": [
    {
     "name": "stdout",
     "output_type": "stream",
     "text": [
      "['physics', 'chemistry']\n"
     ]
    }
   ],
   "source": [
    "# apple# cherry\n",
    "subject=[\"maths\",\"physics\",\"chemistry\"]\n",
    "print(subject[1:])  # Output the list of subjects\n",
    "\n"
   ]
  },
  {
   "cell_type": "code",
   "execution_count": null,
   "id": "5a127135",
   "metadata": {},
   "outputs": [],
   "source": []
  }
 ],
 "metadata": {
  "kernelspec": {
   "display_name": "Python 3",
   "language": "python",
   "name": "python3"
  },
  "language_info": {
   "codemirror_mode": {
    "name": "ipython",
    "version": 3
   },
   "file_extension": ".py",
   "mimetype": "text/x-python",
   "name": "python",
   "nbconvert_exporter": "python",
   "pygments_lexer": "ipython3",
   "version": "3.12.0"
  }
 },
 "nbformat": 4,
 "nbformat_minor": 5
}
