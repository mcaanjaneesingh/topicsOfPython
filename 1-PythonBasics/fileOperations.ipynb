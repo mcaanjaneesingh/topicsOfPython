{
 "cells": [
  {
   "cell_type": "code",
   "execution_count": 1,
   "id": "e751b9fa",
   "metadata": {},
   "outputs": [
    {
     "name": "stdout",
     "output_type": "stream",
     "text": [
      "this is a testing file and will be use of demo\n"
     ]
    }
   ],
   "source": [
    "with open('testfile.txt','r') as file:\n",
    "    content=file.read()\n",
    "    print(content)"
   ]
  },
  {
   "cell_type": "code",
   "execution_count": 4,
   "id": "f1261b6e",
   "metadata": {},
   "outputs": [
    {
     "name": "stdout",
     "output_type": "stream",
     "text": [
      "this is a sample code for testing the file\n",
      "this is a 2nd line\n",
      "this is a 3rd line\n",
      "this is a 4th line\n"
     ]
    }
   ],
   "source": [
    "with open ('sampletext.txt','r') as file:\n",
    "    for line in file:\n",
    "        print(line.strip())\n"
   ]
  },
  {
   "cell_type": "code",
   "execution_count": 7,
   "id": "b1996849",
   "metadata": {},
   "outputs": [],
   "source": [
    "## writing a file in python\n",
    "with open('sampletext.txt','w') as file:\n",
    "    file.write('Hellow world!\\n')\n",
    "    file.write('this is a new line\\n')\n"
   ]
  },
  {
   "cell_type": "code",
   "execution_count": 8,
   "id": "74e42329",
   "metadata": {},
   "outputs": [],
   "source": [
    "with open('sampletext.txt','a') as file:\n",
    "    file.write('Hellow world!\\n')\n",
    "    file.write('Hellow world!\\n')"
   ]
  },
  {
   "cell_type": "code",
   "execution_count": 10,
   "id": "72fe949b",
   "metadata": {},
   "outputs": [],
   "source": [
    "## writing a list of lines to a file\n",
    "lines=['first line \\n','second line \\n','third line \\n','fourth line \\n']\n",
    "with open('sampletext.txt','a') as file:\n",
    "    file.writelines(lines)\n"
   ]
  },
  {
   "cell_type": "code",
   "execution_count": null,
   "id": "4a3c8907",
   "metadata": {},
   "outputs": [],
   "source": [
    "## "
   ]
  }
 ],
 "metadata": {
  "kernelspec": {
   "display_name": "Python 3",
   "language": "python",
   "name": "python3"
  },
  "language_info": {
   "codemirror_mode": {
    "name": "ipython",
    "version": 3
   },
   "file_extension": ".py",
   "mimetype": "text/x-python",
   "name": "python",
   "nbconvert_exporter": "python",
   "pygments_lexer": "ipython3",
   "version": "3.12.0"
  }
 },
 "nbformat": 4,
 "nbformat_minor": 5
}
