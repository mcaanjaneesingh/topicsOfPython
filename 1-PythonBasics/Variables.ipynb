{
 "cells": [
  {
   "cell_type": "code",
   "execution_count": 1,
   "id": "1437155d",
   "metadata": {},
   "outputs": [
    {
     "name": "stdout",
     "output_type": "stream",
     "text": [
      "hi\n"
     ]
    }
   ],
   "source": [
    "print(\"hi\")"
   ]
  },
  {
   "cell_type": "code",
   "execution_count": 2,
   "id": "6384594b",
   "metadata": {},
   "outputs": [
    {
     "name": "stdout",
     "output_type": "stream",
     "text": [
      "Age: 32\n",
      "Height: 5.9\n",
      "Weight: 70.5\n",
      "Is Student: True\n"
     ]
    }
   ],
   "source": [
    "age = 32\n",
    "height = 5.9\n",
    "weight = 70.5\n",
    "is_student = True\n",
    "print(\"Age:\", age)\n",
    "print(\"Height:\", height)\n",
    "print(\"Weight:\", weight)\n",
    "print(\"Is Student:\", is_student)\n",
    "\n",
    "    "
   ]
  },
  {
   "cell_type": "code",
   "execution_count": 3,
   "id": "ad7c6754",
   "metadata": {},
   "outputs": [
    {
     "name": "stdout",
     "output_type": "stream",
     "text": [
      "This is a variable name following Python conventions\n",
      "<class 'str'>\n"
     ]
    }
   ],
   "source": [
    "##naming conventions - In    Python, variable names should be descriptive and follow naming conventions. Use lowercase letters and underscores to separate words.\n",
    "variable_name = \"This is a variable name following Python conventions\"\n",
    "print(variable_name)  # Output: This is a variable name following Python conventions\n",
    "print(type(variable_name))  # Output: <class 'str'>, indicating that 'variable_name' is a string variable"
   ]
  },
  {
   "cell_type": "code",
   "execution_count": 4,
   "id": "96954e08",
   "metadata": {},
   "outputs": [
    {
     "name": "stdout",
     "output_type": "stream",
     "text": [
      "<class 'int'>\n",
      "<class 'int'>\n"
     ]
    }
   ],
   "source": [
    "age = 32\n",
    "print(type(age))  # Output: <class 'int'>, indicating that 'age' is an integer variable\n",
    "variable = 10\n",
    "print(type(variable))  # Output: <class 'int'>, indicating that 'variable' is an integer\n",
    "\n"
   ]
  },
  {
   "cell_type": "code",
   "execution_count": 5,
   "id": "a334344a",
   "metadata": {},
   "outputs": [
    {
     "name": "stdout",
     "output_type": "stream",
     "text": [
      "<class 'str'>\n",
      "<class 'str'>\n",
      "<class 'int'>\n"
     ]
    }
   ],
   "source": [
    "var = \"Hello, World!\"\n",
    "print(type(var))  # Output: <class 'str'>, indicating that 'var' is a string variable\n",
    "\n",
    "name = \"Alice\"\n",
    "print(type(name))  # Output: <class 'str'>, indicating that 'name' is a string variable\n",
    "\n",
    "var= 10\n",
    "print(type(var))  # Output: <class 'int'>, indicating that 'var' is an integer variable\n"
   ]
  },
  {
   "cell_type": "code",
   "execution_count": 6,
   "id": "3705fc21",
   "metadata": {},
   "outputs": [
    {
     "name": "stdout",
     "output_type": "stream",
     "text": [
      "You are 30 years old or younger.\n"
     ]
    }
   ],
   "source": [
    "##input and output\n",
    "age= int(input(\"Enter your age: \"))\n",
    "if age > 30:\n",
    "    print(\"You are older than 30 years.\")\n",
    "else:\n",
    "    print(\"You are 30 years old or younger.\")"
   ]
  },
  {
   "cell_type": "code",
   "execution_count": 8,
   "id": "52190956",
   "metadata": {},
   "outputs": [
    {
     "name": "stdout",
     "output_type": "stream",
     "text": [
      "Sum: 35.0\n",
      "Difference: 5.0\n",
      "Product: 300.0\n",
      "Division: 1.3333333333333333\n",
      "This block of code will always execute\n",
      "32\n",
      "This block of code will always execute\n"
     ]
    }
   ],
   "source": [
    "### Simple calculator\n",
    "num1 = float(input(\"Enter first number: \"))\n",
    "num2 = float(input(\"Enter second number: \"))\n",
    "\n",
    "sum_result = num1 + num2\n",
    "diff_result = num1 - num2\n",
    "prod_result = num1 * num2\n",
    "div_result = num1 / num2 if num2 != 0 else \"Division by zero is not allowed\"\n",
    "print(f\"Sum: {sum_result}\")\n",
    "print(f\"Difference: {diff_result}\")\n",
    "print(f\"Product: {prod_result}\")\n",
    "print(f\"Division: {div_result}\")\n",
    "if True:\n",
    "    print(\"This block of code will always execute\")\n",
    "age=32\n",
    "if age > 30:\n",
    "    print(age)\n",
    "print(\"This block of code will always execute\")\n",
    "#!/usr/bin/env python3"
   ]
  },
  {
   "cell_type": "code",
   "execution_count": null,
   "id": "5048fd88",
   "metadata": {},
   "outputs": [],
   "source": []
  }
 ],
 "metadata": {
  "kernelspec": {
   "display_name": "Python 3",
   "language": "python",
   "name": "python3"
  },
  "language_info": {
   "codemirror_mode": {
    "name": "ipython",
    "version": 3
   },
   "file_extension": ".py",
   "mimetype": "text/x-python",
   "name": "python",
   "nbconvert_exporter": "python",
   "pygments_lexer": "ipython3",
   "version": "3.12.0"
  }
 },
 "nbformat": 4,
 "nbformat_minor": 5
}
