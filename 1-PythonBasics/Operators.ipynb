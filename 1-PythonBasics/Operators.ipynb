{
 "cells": [
  {
   "cell_type": "code",
   "execution_count": null,
   "id": "642415fe",
   "metadata": {},
   "outputs": [
    {
     "name": "stdout",
     "output_type": "stream",
     "text": [
      "Sum: 15\n",
      "Difference: 5\n",
      "Product: 50\n",
      "Division: 2.0\n",
      "Modulus: 0\n"
     ]
    }
   ],
   "source": [
    "## Airthmetic Operators example\n",
    "# This script demonstrates the use of arithmetic operators in Python.\n",
    "a = 10  # An integer variable\n",
    "b = 5   # Another integer variable\n",
    "sum_result = a + b  # Addition\n",
    "diff_result = a - b\n",
    "# Subtraction\n",
    "prod_result = a * b  # Multiplication\n",
    "div_result = a / b  # Division\n",
    "mod_result = a % b  # Modulus\n",
    "print(\"Sum:\", sum_result)  # Output the sum\n",
    "print(\"Difference:\", diff_result)\n",
    "print(\"Product:\", prod_result)  # Output the product\n",
    "print(\"Division:\", div_result)  # Output the division result\n",
    "print(\"Modulus:\", mod_result)  # Output the modulus result\n",
    "# --- IGNORE ---\n",
    "# The following code is ignored by the script execution.\n",
    "# It is used for documentation purposes only.\n",
    "# This section will not be executed when the script runs.\n",
    "# It serves as a comment or note for developers.\n",
    "\n",
    "# --- IGNORE ---sddssdsdsds\n"
   ]
  },
  {
   "cell_type": "code",
   "execution_count": null,
   "id": "db1846ab",
   "metadata": {},
   "outputs": [],
   "source": []
  }
 ],
 "metadata": {
  "kernelspec": {
   "display_name": "Python 3",
   "language": "python",
   "name": "python3"
  },
  "language_info": {
   "codemirror_mode": {
    "name": "ipython",
    "version": 3
   },
   "file_extension": ".py",
   "mimetype": "text/x-python",
   "name": "python",
   "nbconvert_exporter": "python",
   "pygments_lexer": "ipython3",
   "version": "3.12.0"
  }
 },
 "nbformat": 4,
 "nbformat_minor": 5
}
