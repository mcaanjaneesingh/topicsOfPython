{
 "cells": [
  {
   "cell_type": "code",
   "execution_count": 1,
   "id": "218e7255",
   "metadata": {},
   "outputs": [
    {
     "name": "stdout",
     "output_type": "stream",
     "text": [
      "{'name': 'Alice', 'age': 30, 'city': 'New York'}\n",
      "{'name': 'Alice', 'age': 31, 'city': 'New York'}\n",
      "{'name': 'Alice', 'age': 31, 'city': 'New York', 'profession': 'Engineer'}\n"
     ]
    }
   ],
   "source": [
    "#use of dictionary\n",
    "data = {'name': 'Alice', 'age': 30, 'city': 'New York'}\n",
    "print(data)  # Output the dictionary\n",
    "data['age'] = 31  # Update age\n",
    "print(data)  # Output the updated dictionary\n",
    "data['profession'] = 'Engineer'  # Add new key-value pair\n",
    "print(data)  # Output the dictionary with new key-value pair\n"
   ]
  },
  {
   "cell_type": "code",
   "execution_count": 3,
   "id": "4ea3d162",
   "metadata": {},
   "outputs": [
    {
     "name": "stdout",
     "output_type": "stream",
     "text": [
      "{}\n"
     ]
    }
   ],
   "source": [
    "empty_dict = {}\n",
    "print(empty_dict)  # Output the empty dictionary\n"
   ]
  },
  {
   "cell_type": "code",
   "execution_count": null,
   "id": "7461258a",
   "metadata": {},
   "outputs": [],
   "source": []
  }
 ],
 "metadata": {
  "kernelspec": {
   "display_name": "Python 3",
   "language": "python",
   "name": "python3"
  },
  "language_info": {
   "codemirror_mode": {
    "name": "ipython",
    "version": 3
   },
   "file_extension": ".py",
   "mimetype": "text/x-python",
   "name": "python",
   "nbconvert_exporter": "python",
   "pygments_lexer": "ipython3",
   "version": "3.12.0"
  }
 },
 "nbformat": 4,
 "nbformat_minor": 5
}
