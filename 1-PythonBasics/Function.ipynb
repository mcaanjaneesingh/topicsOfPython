{
 "cells": [
  {
   "cell_type": "code",
   "execution_count": 1,
   "id": "7bdb9198",
   "metadata": {},
   "outputs": [
    {
     "name": "stdout",
     "output_type": "stream",
     "text": [
      "Hello, Alice!\n"
     ]
    }
   ],
   "source": [
    "#use of functions\n",
    "def greet(name):\n",
    "    return f\"Hello, {name}!\"\n",
    "print(greet(\"Alice\"))\n"
   ]
  },
  {
   "cell_type": "code",
   "execution_count": 2,
   "id": "514be53e",
   "metadata": {},
   "outputs": [
    {
     "name": "stdout",
     "output_type": "stream",
     "text": [
      "Odd\n"
     ]
    }
   ],
   "source": [
    "def Check_numer_is_even_or_odd(num):\n",
    "    if num % 2 == 0:\n",
    "        return \"Even\"\n",
    "    else:\n",
    "        return \"Odd\"    \n",
    "print(Check_numer_is_even_or_odd(5))\n"
   ]
  },
  {
   "cell_type": "code",
   "execution_count": 3,
   "id": "a545cec5",
   "metadata": {},
   "outputs": [
    {
     "name": "stdout",
     "output_type": "stream",
     "text": [
      "77.0\n"
     ]
    }
   ],
   "source": [
    "def convert_temperature(celsius):\n",
    "    fahrenheit = (celsius * 9/5) + 32\n",
    "    return fahrenheit\n",
    "\n",
    "print(convert_temperature(25))  # Convert 25°C to Fahrenheit\n"
   ]
  },
  {
   "cell_type": "code",
   "execution_count": 4,
   "id": "8e9a4e6e",
   "metadata": {},
   "outputs": [
    {
     "name": "stdout",
     "output_type": "stream",
     "text": [
      "Strong\n"
     ]
    }
   ],
   "source": [
    "def password_strength_checker(password):\n",
    "    if len(password) < 8:\n",
    "        return \"Weak\"\n",
    "    elif any(char.isdigit() for char in password) and any(char.isupper() for char in password):\n",
    "        return \"Strong\"\n",
    "    else:\n",
    "        return \"Moderate\"   \n",
    "print(password_strength_checker(\"Password123\"))  # Example usage\n",
    "\n"
   ]
  },
  {
   "cell_type": "code",
   "execution_count": 6,
   "id": "8e617964",
   "metadata": {},
   "outputs": [
    {
     "name": "stdout",
     "output_type": "stream",
     "text": [
      "{'this': 1, 'is': 1, 'a': 1, 'sample': 1, 'code': 1, 'for': 1, 'testing': 1, 'the': 1, 'file': 1}\n"
     ]
    }
   ],
   "source": [
    "def count_word_frequency_of_a_file(file_path):\n",
    "    word_count = {}\n",
    "    with open(file_path, 'r') as file:\n",
    "        for line in file:\n",
    "            words = line.split()\n",
    "            for word in words:\n",
    "                word = word.lower().strip('.,!?;\"()[]{}')  # Normalize the word\n",
    "                if word in word_count:\n",
    "                    word_count[word] += 1\n",
    "                else:\n",
    "                    word_count[word] = 1\n",
    "    return word_count\n",
    "print(count_word_frequency_of_a_file('sampletext.txt'))  # Replace 'sample.txt' with your file path\n"
   ]
  },
  {
   "cell_type": "code",
   "execution_count": null,
   "id": "5a09e9f5",
   "metadata": {},
   "outputs": [],
   "source": [
    "def calculate_distance(speed, time):\n",
    "    distance = speed * time\n",
    "    return distance\n",
    "\n",
    "print(calculate_distance(60, 2))  # Calculate distance for speed=60 units/time and time=2 time units\n",
    "\n",
    "def calculate_lift_rounds(total_no_of_people, lift_capacity):\n",
    "    if lift_capacity <= 0:\n",
    "        return \"Lift capacity must be greater than zero.\"\n",
    "    rounds = total_no_of_people // lift_capacity\n",
    "    if total_no_of_people % lift_capacity != 0:\n",
    "        rounds += 1  # Add an extra round for remaining people\n",
    "    return rounds\n",
    "    "
   ]
  },
  {
   "cell_type": "code",
   "execution_count": 8,
   "id": "dedf6772",
   "metadata": {},
   "outputs": [
    {
     "name": "stdout",
     "output_type": "stream",
     "text": [
      "4\n"
     ]
    }
   ],
   "source": [
    "def calculate_y(slope, x_intercept, x):\n",
    "    y = slope * (x - x_intercept)\n",
    "    return y\n",
    "print(calculate_y(2, 3, 5))  # Example usage with slope=2, x_intercept=3, and x=5\n"
   ]
  },
  {
   "cell_type": "code",
   "execution_count": 9,
   "id": "a24997a8",
   "metadata": {},
   "outputs": [
    {
     "name": "stdout",
     "output_type": "stream",
     "text": [
      "15\n",
      "9\n"
     ]
    }
   ],
   "source": [
    "def sum_list(numbers):\n",
    "    total = sum(numbers)\n",
    "    return total\n",
    "print(sum_list([1, 2, 3, 4, 5]))  # Example usage\n",
    "\n",
    "def find_largest_number(numbers):\n",
    "    if not numbers:\n",
    "        return None\n",
    "    largest = max(numbers)\n",
    "    return largest\n",
    "print(find_largest_number([3, 1, 4, 1, 5, 9, 2, 6, 5]))  # Example usage\n"
   ]
  },
  {
   "cell_type": "code",
   "execution_count": 10,
   "id": "4bfea939",
   "metadata": {},
   "outputs": [
    {
     "name": "stdout",
     "output_type": "stream",
     "text": [
      "[1, 2, 3, 4, 5]\n"
     ]
    }
   ],
   "source": [
    "def remove_duplicates(input_list):\n",
    "    return list(set(input_list))\n",
    "print(remove_duplicates([1, 2, 2, 3, 4, 4, 5]))  # Example usage\n"
   ]
  },
  {
   "cell_type": "code",
   "execution_count": 11,
   "id": "d2aef22c",
   "metadata": {},
   "outputs": [
    {
     "name": "stdout",
     "output_type": "stream",
     "text": [
      "True\n"
     ]
    }
   ],
   "source": [
    "def check_unique_elements(input_list):\n",
    "    return len(input_list) == len(set(input_list))\n",
    "print(check_unique_elements([1, 2, 3, 4, 5]))  # Example usage\n"
   ]
  },
  {
   "cell_type": "code",
   "execution_count": 12,
   "id": "cfc6d777",
   "metadata": {},
   "outputs": [
    {
     "name": "stdout",
     "output_type": "stream",
     "text": [
      "[5, 4, 3, 2, 1]\n",
      "(3, 3)\n"
     ]
    }
   ],
   "source": [
    "def reverse_list(input_list):\n",
    "    return input_list[::-1] \n",
    "print(reverse_list([1, 2, 3, 4, 5]))  # Example usage\n",
    "\n",
    "def count_even_odd(lst):\n",
    "    even_count = sum(1 for num in lst if num % 2 == 0)\n",
    "    odd_count = len(lst) - even_count\n",
    "    return even_count, odd_count\n",
    "print(count_even_odd([1, 2, 3, 4, 5, 6]))  # Example usage\n"
   ]
  },
  {
   "cell_type": "code",
   "execution_count": null,
   "id": "49c19ab6",
   "metadata": {},
   "outputs": [],
   "source": []
  }
 ],
 "metadata": {
  "kernelspec": {
   "display_name": "Python 3",
   "language": "python",
   "name": "python3"
  },
  "language_info": {
   "codemirror_mode": {
    "name": "ipython",
    "version": 3
   },
   "file_extension": ".py",
   "mimetype": "text/x-python",
   "name": "python",
   "nbconvert_exporter": "python",
   "pygments_lexer": "ipython3",
   "version": "3.12.0"
  }
 },
 "nbformat": 4,
 "nbformat_minor": 5
}
