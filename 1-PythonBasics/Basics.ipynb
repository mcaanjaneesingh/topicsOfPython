{
 "cells": [
  {
   "cell_type": "code",
   "execution_count": 1,
   "id": "676b59fa",
   "metadata": {},
   "outputs": [
    {
     "name": "stdout",
     "output_type": "stream",
     "text": [
      "John\n",
      "Doe\n"
     ]
    }
   ],
   "source": [
    "##Basic syntax Rules in python\n",
    "## Casae sensitivity - Python is case sensitive, meaning that variables and functions with different cases are considered different.\n",
    "Name = \"John\"\n",
    "name= \"Doe\"\n",
    "print(Name)  # Output: John\n",
    "print(name)  # Output: Doe\n"
   ]
  },
  {
   "cell_type": "code",
   "execution_count": null,
   "id": "0c92ff17",
   "metadata": {},
   "outputs": [],
   "source": [
    "## Indentation - Python uses indentation to define blocks of code, such as loops and functions. Consistent indentation is crucial.  \n"
   ]
  },
  {
   "cell_type": "markdown",
   "id": "81de1d2b",
   "metadata": {},
   "source": [
    "##Indentation\n",
    "## Python uses indentation"
   ]
  },
  {
   "cell_type": "markdown",
   "id": "8c4e5802",
   "metadata": {},
   "source": [
    "age=32\n",
    "if age>30:\n",
    "    print(age)"
   ]
  },
  {
   "cell_type": "markdown",
   "id": "8b887606",
   "metadata": {},
   "source": []
  },
  {
   "cell_type": "code",
   "execution_count": 4,
   "id": "32dd428e",
   "metadata": {},
   "outputs": [
    {
     "name": "stdout",
     "output_type": "stream",
     "text": [
      "32\n",
      "Age is greater than 30\n"
     ]
    }
   ],
   "source": [
    "age=32\n",
    "if age>30:\n",
    "    print(age)\n",
    "print(\"Age is greater than 30\")  # Output: Age is greater than 30   "
   ]
  },
  {
   "cell_type": "code",
   "execution_count": 5,
   "id": "ac4ae598",
   "metadata": {},
   "outputs": [
    {
     "name": "stdout",
     "output_type": "stream",
     "text": [
      "Hello, World!\n"
     ]
    }
   ],
   "source": [
    "## This is a single line comment\n",
    "print(\"Hello, World!\")  # This prints a message to the console"
   ]
  },
  {
   "cell_type": "code",
   "execution_count": 6,
   "id": "e0f2f4d1",
   "metadata": {},
   "outputs": [
    {
     "name": "stdout",
     "output_type": "stream",
     "text": [
      "This is a very long variable name that needs to be split across multiple lines for better readability in the code.\n"
     ]
    }
   ],
   "source": [
    "#Line continuation - In Python, you can use a backslash (\\) to continue a line of code onto the next line for better readability.\n",
    "long_variable_name = \"This is a very long variable name that needs to be split across multiple lines\" \\\n",
    "                     \" for better readability in the code.\"\n",
    "print(long_variable_name)  # Output: This is a very long variable name that needs to be split across multiple lines for better readability in the code.\n"
   ]
  },
  {
   "cell_type": "code",
   "execution_count": 7,
   "id": "61af5e45",
   "metadata": {},
   "outputs": [
    {
     "name": "stdout",
     "output_type": "stream",
     "text": [
      "This is a very long variable name that needs to be split across multiple lines for better readability in the code.\n"
     ]
    }
   ],
   "source": [
    "##Use a backslash (\\) to continue a line of code onto the next line for better readability.\n",
    "long_variable_name = \"This is a very long variable name that needs to be split across multiple lines\" \\\n",
    "                     \" for better readability in the code.\"\n",
    "print(long_variable_name)  # Output: This is a very long variable name that needs to be split across multiple lines for better readability in the code. \n"
   ]
  },
  {
   "cell_type": "code",
   "execution_count": 8,
   "id": "9530e78f",
   "metadata": {},
   "outputs": [
    {
     "name": "stdout",
     "output_type": "stream",
     "text": [
      "10 20 30\n"
     ]
    }
   ],
   "source": [
    "## multiple statements on a single line - In Python, you can write multiple statements on a single line by separating them with semicolons (;).\n",
    "x = 10; y = 20; z = x + y\n",
    "print(x, y, z)  # Output: 10 20 30\n"
   ]
  },
  {
   "cell_type": "code",
   "execution_count": 9,
   "id": "4d7ba0d5",
   "metadata": {},
   "outputs": [
    {
     "name": "stdout",
     "output_type": "stream",
     "text": [
      "This is a variable assignment in Python\n"
     ]
    }
   ],
   "source": [
    "##Understand semantics - Python uses indentation to define blocks of code, such as loops and functions. Consistent indentation is crucial.\n",
    "#variable assignment - In Python, you can assign values to variables using the equals sign (=). Variable names should be descriptive and follow naming conventions.\n",
    "variable_assignment = \"This is a variable assignment in Python\"\n",
    "print(variable_assignment)  # Output: This is a variable assignment in Python\n"
   ]
  },
  {
   "cell_type": "code",
   "execution_count": 10,
   "id": "b7f1dc75",
   "metadata": {},
   "outputs": [
    {
     "name": "stdout",
     "output_type": "stream",
     "text": [
      "<class 'str'>\n"
     ]
    }
   ],
   "source": [
    "name = \"Alice\"\n",
    "print(type(name))  # Output: <class 'str'>, indicating that 'name' is a string variable"
   ]
  },
  {
   "cell_type": "code",
   "execution_count": 11,
   "id": "aa2654fa",
   "metadata": {},
   "outputs": [
    {
     "name": "stdout",
     "output_type": "stream",
     "text": [
      "<class 'int'>\n"
     ]
    }
   ],
   "source": [
    "variable=10\n",
    "print(type(variable))  # Output: <class 'int'>, indicating that 'variable' is an integer"
   ]
  },
  {
   "cell_type": "code",
   "execution_count": 12,
   "id": "be33c73d",
   "metadata": {},
   "outputs": [
    {
     "name": "stdout",
     "output_type": "stream",
     "text": [
      "32\n"
     ]
    }
   ],
   "source": [
    "age=32\n",
    "if age>30:\n",
    "    print(age)\n"
   ]
  },
  {
   "cell_type": "code",
   "execution_count": 13,
   "id": "19b14cc2",
   "metadata": {},
   "outputs": [
    {
     "name": "stdout",
     "output_type": "stream",
     "text": [
      "This block of code will always execute\n"
     ]
    }
   ],
   "source": [
    "if True:\n",
    "    print(\"This block of code will always execute\")\n",
    "    "
   ]
  },
  {
   "cell_type": "code",
   "execution_count": null,
   "id": "3671fd90",
   "metadata": {},
   "outputs": [],
   "source": []
  }
 ],
 "metadata": {
  "kernelspec": {
   "display_name": "Python 3",
   "language": "python",
   "name": "python3"
  },
  "language_info": {
   "codemirror_mode": {
    "name": "ipython",
    "version": 3
   },
   "file_extension": ".py",
   "mimetype": "text/x-python",
   "name": "python",
   "nbconvert_exporter": "python",
   "pygments_lexer": "ipython3",
   "version": "3.12.0"
  }
 },
 "nbformat": 4,
 "nbformat_minor": 5
}
