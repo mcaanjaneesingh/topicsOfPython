{
 "cells": [
  {
   "cell_type": "code",
   "execution_count": 2,
   "id": "1d60fe25",
   "metadata": {},
   "outputs": [
    {
     "name": "stdout",
     "output_type": "stream",
     "text": [
      "the variable has not been defined name 'b' is not defined\n"
     ]
    }
   ],
   "source": [
    "## exception handling in python\n",
    "try:\n",
    "    a=b\n",
    "except NameError as ex:\n",
    "    print('the variable has not been defined',ex)"
   ]
  },
  {
   "cell_type": "code",
   "execution_count": null,
   "id": "1e733372",
   "metadata": {},
   "outputs": [],
   "source": [
    "## how to use exception handling in python\n",
    "#how to \n",
    "try:\n",
    "    \n"
   ]
  },
  {
   "cell_type": "code",
   "execution_count": 1,
   "id": "1ef2f00e",
   "metadata": {},
   "outputs": [
    {
     "ename": "TypeError",
     "evalue": "math.sqrt() takes exactly one argument (0 given)",
     "output_type": "error",
     "traceback": [
      "\u001b[31m---------------------------------------------------------------------------\u001b[39m",
      "\u001b[31mTypeError\u001b[39m                                 Traceback (most recent call last)",
      "\u001b[36mCell\u001b[39m\u001b[36m \u001b[39m\u001b[32mIn[1]\u001b[39m\u001b[32m, line 4\u001b[39m\n\u001b[32m      1\u001b[39m \u001b[38;5;66;03m# this is the test code \u001b[39;00m\n\u001b[32m      2\u001b[39m \u001b[38;5;66;03m# python is the best    \u001b[39;00m\n\u001b[32m      3\u001b[39m \u001b[38;5;28;01mimport\u001b[39;00m\u001b[38;5;250m \u001b[39m\u001b[34;01mmath\u001b[39;00m \n\u001b[32m----> \u001b[39m\u001b[32m4\u001b[39m \u001b[43mmath\u001b[49m\u001b[43m.\u001b[49m\u001b[43msqrt\u001b[49m\u001b[43m(\u001b[49m\u001b[43m)\u001b[49m     \n",
      "\u001b[31mTypeError\u001b[39m: math.sqrt() takes exactly one argument (0 given)"
     ]
    }
   ],
   "source": [
    "# this is the test code \n",
    "# python is the best    \n",
    "import math \n",
    "math.sqrt()     \n",
    "        \n"
   ]
  },
  {
   "cell_type": "code",
   "execution_count": null,
   "id": "883641e5",
   "metadata": {},
   "outputs": [],
   "source": []
  }
 ],
 "metadata": {
  "kernelspec": {
   "display_name": "Python 3",
   "language": "python",
   "name": "python3"
  },
  "language_info": {
   "codemirror_mode": {
    "name": "ipython",
    "version": 3
   },
   "file_extension": ".py",
   "mimetype": "text/x-python",
   "name": "python",
   "nbconvert_exporter": "python",
   "pygments_lexer": "ipython3",
   "version": "3.12.0"
  }
 },
 "nbformat": 4,
 "nbformat_minor": 5
}
