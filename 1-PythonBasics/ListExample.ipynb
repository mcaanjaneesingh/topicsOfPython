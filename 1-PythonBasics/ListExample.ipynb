{
 "cells": [
  {
   "cell_type": "code",
   "execution_count": 1,
   "id": "583a050b",
   "metadata": {},
   "outputs": [
    {
     "name": "stdout",
     "output_type": "stream",
     "text": [
      "['', 'buy groceries', 'clean the house', 'pay bills']\n",
      "['', 'buy groceries', 'clean the house', 'pay bills', 'walk the dog']\n",
      "['buy groceries', 'clean the house', 'pay bills', 'walk the dog']\n"
     ]
    }
   ],
   "source": [
    "to_do_list = [\"\", \"buy groceries\", \"clean the house\", \"pay bills\"]\n",
    "print(to_do_list)  # Output the to-do list\n",
    "to_do_list.append(\"walk the dog\")  # Add a new task to the list\n",
    "print(to_do_list)  # Output the updated to-do list\n",
    "to_do_list.remove(\"\")  # Remove the empty string task\n",
    "print(to_do_list)  # Output the final to-do list\n"
   ]
  },
  {
   "cell_type": "code",
   "execution_count": 2,
   "id": "d4da0af2",
   "metadata": {},
   "outputs": [
    {
     "name": "stdout",
     "output_type": "stream",
     "text": [
      "You have a task to pay bills.\n"
     ]
    }
   ],
   "source": [
    "if \"pay bills\" in to_do_list:\n",
    "    print(\"You have a task to pay bills.\")  \n",
    "    "
   ]
  },
  {
   "cell_type": "markdown",
   "id": "ad75fe9c",
   "metadata": {},
   "source": []
  },
  {
   "cell_type": "code",
   "execution_count": 3,
   "id": "ad97b839",
   "metadata": {},
   "outputs": [
    {
     "name": "stdout",
     "output_type": "stream",
     "text": [
      "to do list remains same ['buy groceries', 'clean the house', 'pay bills', 'walk the dog']\n"
     ]
    }
   ],
   "source": [
    "print(\"to do list remains same\", to_do_list)\n"
   ]
  },
  {
   "cell_type": "code",
   "execution_count": null,
   "id": "0d870666",
   "metadata": {},
   "outputs": [],
   "source": []
  }
 ],
 "metadata": {
  "kernelspec": {
   "display_name": "Python 3",
   "language": "python",
   "name": "python3"
  },
  "language_info": {
   "codemirror_mode": {
    "name": "ipython",
    "version": 3
   },
   "file_extension": ".py",
   "mimetype": "text/x-python",
   "name": "python",
   "nbconvert_exporter": "python",
   "pygments_lexer": "ipython3",
   "version": "3.12.0"
  }
 },
 "nbformat": 4,
 "nbformat_minor": 5
}
