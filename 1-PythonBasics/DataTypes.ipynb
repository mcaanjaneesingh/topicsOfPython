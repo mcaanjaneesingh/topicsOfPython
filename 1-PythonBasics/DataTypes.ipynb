{
 "cells": [
  {
   "cell_type": "code",
   "execution_count": 1,
   "id": "d80eb86c",
   "metadata": {},
   "outputs": [
    {
     "name": "stdout",
     "output_type": "stream",
     "text": [
      "Age: 25\n"
     ]
    }
   ],
   "source": [
    "## Integers example\n",
    "# This script demonstrates the use of integers in Python.   \n",
    "age = 25  # An integer representing age\n",
    "print(\"Age:\", age)  # Output the age\n"
   ]
  },
  {
   "cell_type": "code",
   "execution_count": 2,
   "id": "1fd7e5e4",
   "metadata": {},
   "outputs": [
    {
     "name": "stdout",
     "output_type": "stream",
     "text": [
      "Height: 5.9\n"
     ]
    }
   ],
   "source": [
    "## floats example\n",
    "# This script demonstrates the use of floats in Python.\n",
    "height = 5.9  # A float representing height in feet\n",
    "print(\"Height:\", height)  # Output the height\n",
    "# --- IGNORE ---\n",
    "# The following code is ignored by the script execution.\n",
    "# It is used for documentation purposes only.\n",
    "# This section will not be executed when the script runs.\n",
    "# It serves as a comment or note for developers.\n"
   ]
  },
  {
   "cell_type": "code",
   "execution_count": null,
   "id": "9b04771a",
   "metadata": {},
   "outputs": [],
   "source": []
  }
 ],
 "metadata": {
  "kernelspec": {
   "display_name": "Python 3",
   "language": "python",
   "name": "python3"
  },
  "language_info": {
   "codemirror_mode": {
    "name": "ipython",
    "version": 3
   },
   "file_extension": ".py",
   "mimetype": "text/x-python",
   "name": "python",
   "nbconvert_exporter": "python",
   "pygments_lexer": "ipython3",
   "version": "3.12.0"
  }
 },
 "nbformat": 4,
 "nbformat_minor": 5
}
